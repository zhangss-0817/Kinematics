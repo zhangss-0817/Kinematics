{
 "cells": [
  {
   "cell_type": "markdown",
   "id": "e6e716a4-e704-4529-ba0a-28b4221607e3",
   "metadata": {},
   "source": []
  },
  {
   "cell_type": "markdown",
   "id": "7f4539ba-e94c-4da7-8951-294df251a98b",
   "metadata": {},
   "source": []
  },
  {
   "cell_type": "code",
   "execution_count": 1,
   "id": "64c30c02-eaf6-4b52-ace7-60aab9053d07",
   "metadata": {},
   "outputs": [
    {
     "name": "stdout",
     "output_type": "stream",
     "text": [
      "  \u001b[38;5;1m 1       \u001b[0m \u001b[38;5;1m 0       \u001b[0m \u001b[38;5;1m 0       \u001b[0m \u001b[38;5;4m 0       \u001b[0m  \u001b[0m\n",
      "  \u001b[38;5;1m 0       \u001b[0m \u001b[38;5;1m 0       \u001b[0m \u001b[38;5;1m-1       \u001b[0m \u001b[38;5;4m 0.3     \u001b[0m  \u001b[0m\n",
      "  \u001b[38;5;1m 0       \u001b[0m \u001b[38;5;1m 1       \u001b[0m \u001b[38;5;1m 0       \u001b[0m \u001b[38;5;4m 0       \u001b[0m  \u001b[0m\n",
      "  \u001b[38;5;244m 0       \u001b[0m \u001b[38;5;244m 0       \u001b[0m \u001b[38;5;244m 0       \u001b[0m \u001b[38;5;244m 1       \u001b[0m  \u001b[0m\n",
      "\n",
      "The fkine method: \n",
      "  \u001b[38;5;1m 1       \u001b[0m \u001b[38;5;1m 0       \u001b[0m \u001b[38;5;1m 0       \u001b[0m \u001b[38;5;4m 0       \u001b[0m  \u001b[0m\n",
      "  \u001b[38;5;1m 0       \u001b[0m \u001b[38;5;1m 0       \u001b[0m \u001b[38;5;1m-1       \u001b[0m \u001b[38;5;4m 0.3     \u001b[0m  \u001b[0m\n",
      "  \u001b[38;5;1m 0       \u001b[0m \u001b[38;5;1m 1       \u001b[0m \u001b[38;5;1m 0       \u001b[0m \u001b[38;5;4m 0       \u001b[0m  \u001b[0m\n",
      "  \u001b[38;5;244m 0       \u001b[0m \u001b[38;5;244m 0       \u001b[0m \u001b[38;5;244m 0       \u001b[0m \u001b[38;5;244m 1       \u001b[0m  \u001b[0m\n",
      "\n"
     ]
    }
   ],
   "source": [
    "import numpy as np\n",
    "import roboticstoolbox as rtb\n",
    "import spatialmath as sm\n",
    "\n",
    "\n",
    "E1 = rtb.ET.tz(0.1)\n",
    "E2 = rtb.ET.Rx()\n",
    "E3 = rtb.ET.tz(0.2)\n",
    "E4 = rtb.ET.Ry()\n",
    "E5 = rtb.ET.tz(0.2)\n",
    "E6 = rtb.ET.Ry()\n",
    "E7 = rtb.ET.Rx()\n",
    "E8 = rtb.ET.Ry()\n",
    "E9 = rtb.ET.ty(0.3)\n",
    "E10 = rtb.ET.Rz()\n",
    "E11 = rtb.ET.Rz()\n",
    "E12 = rtb.ET.Ry()\n",
    "E13 = rtb.ET.tz(-0.2)\n",
    "E14 = rtb.ET.Rx()\n",
    "E15 = rtb.ET.tz(-0.2)\n",
    "E16 = rtb.ET.Ry()\n",
    "E17 = rtb.ET.Ry()\n",
    "E18 = rtb.ET.tz(-0.1)\n",
    "E19 = rtb.ET.Rx()\n",
    "\n",
    "ETS = E1 * E2 * E3 * E4 * E5 * E6 * E7 * E8 * E9 * E10 * E11 * E12 * E13 * E14 * E15 * E16 * E17 * E18 * E19\n",
    "\n",
    "\n",
    "q = np.array([0, 0, 0, 0, 0, 0, 0, 0, 0, 0, 0, np.pi / 2])\n",
    "\n",
    "\n",
    "fk = np.eye(4)\n",
    "\n",
    "for et in ETS:\n",
    "    if et.isjoint:\n",
    "        fk = fk @ et.A(q[et.jindex])\n",
    "    else:\n",
    "        fk = fk @ et.A()\n",
    "\n",
    "\n",
    "print(sm.SE3(fk))\n",
    "#************************************************\n",
    "print(f\"The fkine method: \\n{ETS.fkine(q)}\")"
   ]
  },
  {
   "cell_type": "code",
   "execution_count": null,
   "id": "0bf79fe4-ba9c-4654-a83e-67fdeb73bd05",
   "metadata": {},
   "outputs": [],
   "source": []
  }
 ],
 "metadata": {
  "kernelspec": {
   "display_name": "Python 3 (ipykernel)",
   "language": "python",
   "name": "python3"
  },
  "language_info": {
   "codemirror_mode": {
    "name": "ipython",
    "version": 3
   },
   "file_extension": ".py",
   "mimetype": "text/x-python",
   "name": "python",
   "nbconvert_exporter": "python",
   "pygments_lexer": "ipython3",
   "version": "3.10.0"
  }
 },
 "nbformat": 4,
 "nbformat_minor": 5
}
