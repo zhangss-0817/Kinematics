{
 "cells": [
  {
   "cell_type": "markdown",
   "id": "8085b8cc-410b-4ffb-863c-ed4b23bbb0ab",
   "metadata": {},
   "source": [
    "![title](IMG_20230825_142231.jpg)"
   ]
  },
  {
   "cell_type": "markdown",
   "id": "0bfcbf26-43d1-4d03-8d81-062ecf5a1650",
   "metadata": {},
   "source": [
    "### 初始零点 - 答案不对"
   ]
  },
  {
   "cell_type": "code",
   "execution_count": 1,
   "id": "ecbb30d7-87e2-4d1c-a493-538b88c079e1",
   "metadata": {},
   "outputs": [
    {
     "name": "stdout",
     "output_type": "stream",
     "text": [
      "  \u001b[38;5;1m 1       \u001b[0m \u001b[38;5;1m 0       \u001b[0m \u001b[38;5;1m 0       \u001b[0m \u001b[38;5;4m 0.2     \u001b[0m  \u001b[0m\n",
      "  \u001b[38;5;1m 0       \u001b[0m \u001b[38;5;1m 1       \u001b[0m \u001b[38;5;1m 0       \u001b[0m \u001b[38;5;4m 0       \u001b[0m  \u001b[0m\n",
      "  \u001b[38;5;1m 0       \u001b[0m \u001b[38;5;1m 0       \u001b[0m \u001b[38;5;1m 1       \u001b[0m \u001b[38;5;4m 0.1     \u001b[0m  \u001b[0m\n",
      "  \u001b[38;5;244m 0       \u001b[0m \u001b[38;5;244m 0       \u001b[0m \u001b[38;5;244m 0       \u001b[0m \u001b[38;5;244m 1       \u001b[0m  \u001b[0m\n",
      "\n",
      "The fkine method: \n",
      "  \u001b[38;5;1m 1       \u001b[0m \u001b[38;5;1m 0       \u001b[0m \u001b[38;5;1m 0       \u001b[0m \u001b[38;5;4m 0.2     \u001b[0m  \u001b[0m\n",
      "  \u001b[38;5;1m 0       \u001b[0m \u001b[38;5;1m 1       \u001b[0m \u001b[38;5;1m 0       \u001b[0m \u001b[38;5;4m 0       \u001b[0m  \u001b[0m\n",
      "  \u001b[38;5;1m 0       \u001b[0m \u001b[38;5;1m 0       \u001b[0m \u001b[38;5;1m 1       \u001b[0m \u001b[38;5;4m 0.1     \u001b[0m  \u001b[0m\n",
      "  \u001b[38;5;244m 0       \u001b[0m \u001b[38;5;244m 0       \u001b[0m \u001b[38;5;244m 0       \u001b[0m \u001b[38;5;244m 1       \u001b[0m  \u001b[0m\n",
      "\n"
     ]
    }
   ],
   "source": [
    "import numpy as np\n",
    "import roboticstoolbox as rtb\n",
    "import spatialmath as sm\n",
    "\n",
    "\n",
    "E1 = rtb.ET.tz(0.1)\n",
    "E2 = rtb.ET.Rz()\n",
    "E3 = rtb.ET.tx(0.2)\n",
    "E4 = rtb.ET.Rz()\n",
    "E5 = rtb.ET.tx(0.2)\n",
    "E6 = rtb.ET.Rz()\n",
    "E7 = rtb.ET.Rz()\n",
    "E8 = rtb.ET.Rz()\n",
    "E9 = rtb.ET.ty(0.3)\n",
    "E10 = rtb.ET.Rz()\n",
    "E11 = rtb.ET.Rz()\n",
    "E12 = rtb.ET.Rz()\n",
    "E13 = rtb.ET.ty(-0.2)\n",
    "E14 = rtb.ET.Rz()\n",
    "E15 = rtb.ET.tx(-0.2)\n",
    "E16 = rtb.ET.Rz()\n",
    "E17 = rtb.ET.Rz()\n",
    "E18 = rtb.ET.ty(-0.1)\n",
    "E19 = rtb.ET.Rz()\n",
    "\n",
    "ETS = E1 * E2 * E3 * E4 * E5 * E6 * E7 * E8 * E9 * E10 * E11 * E12 * E13 * E14 * E15 * E16 * E17 * E18 * E19\n",
    "\n",
    "\n",
    "q = np.array([0, 0, 0, 0, 0, 0, 0, 0, 0, 0, 0, 0])\n",
    "\n",
    "\n",
    "fk = np.eye(4)\n",
    "\n",
    "for et in ETS:\n",
    "    if et.isjoint:\n",
    "        fk = fk @ et.A(q[et.jindex])\n",
    "    else:\n",
    "        fk = fk @ et.A()\n",
    "\n",
    "\n",
    "print(sm.SE3(fk))\n",
    "#************************************************\n",
    "print(f\"The fkine method: \\n{ETS.fkine(q)}\")"
   ]
  },
  {
   "cell_type": "markdown",
   "id": "debd4ad1-e7ee-4594-9c79-f7a96c3c8c75",
   "metadata": {},
   "source": [
    "## 第12个关节旋转90度 - 答案是否正确？"
   ]
  },
  {
   "cell_type": "code",
   "execution_count": 2,
   "id": "2c5c9d56-f68e-46f7-b54f-57d4c54478d2",
   "metadata": {},
   "outputs": [
    {
     "name": "stdout",
     "output_type": "stream",
     "text": [
      "  \u001b[38;5;1m 0       \u001b[0m \u001b[38;5;1m-1       \u001b[0m \u001b[38;5;1m 0       \u001b[0m \u001b[38;5;4m 0.2     \u001b[0m  \u001b[0m\n",
      "  \u001b[38;5;1m 1       \u001b[0m \u001b[38;5;1m 0       \u001b[0m \u001b[38;5;1m 0       \u001b[0m \u001b[38;5;4m 0       \u001b[0m  \u001b[0m\n",
      "  \u001b[38;5;1m 0       \u001b[0m \u001b[38;5;1m 0       \u001b[0m \u001b[38;5;1m 1       \u001b[0m \u001b[38;5;4m 0.1     \u001b[0m  \u001b[0m\n",
      "  \u001b[38;5;244m 0       \u001b[0m \u001b[38;5;244m 0       \u001b[0m \u001b[38;5;244m 0       \u001b[0m \u001b[38;5;244m 1       \u001b[0m  \u001b[0m\n",
      "\n",
      "The fkine method: \n",
      "  \u001b[38;5;1m 0       \u001b[0m \u001b[38;5;1m-1       \u001b[0m \u001b[38;5;1m 0       \u001b[0m \u001b[38;5;4m 0.2     \u001b[0m  \u001b[0m\n",
      "  \u001b[38;5;1m 1       \u001b[0m \u001b[38;5;1m 0       \u001b[0m \u001b[38;5;1m 0       \u001b[0m \u001b[38;5;4m 0       \u001b[0m  \u001b[0m\n",
      "  \u001b[38;5;1m 0       \u001b[0m \u001b[38;5;1m 0       \u001b[0m \u001b[38;5;1m 1       \u001b[0m \u001b[38;5;4m 0.1     \u001b[0m  \u001b[0m\n",
      "  \u001b[38;5;244m 0       \u001b[0m \u001b[38;5;244m 0       \u001b[0m \u001b[38;5;244m 0       \u001b[0m \u001b[38;5;244m 1       \u001b[0m  \u001b[0m\n",
      "\n"
     ]
    }
   ],
   "source": [
    "q = np.array([0, 0, 0, 0, 0, 0, 0, 0, 0, 0, 0, np.pi/2])\n",
    "\n",
    "\n",
    "fk = np.eye(4)\n",
    "\n",
    "for et in ETS:\n",
    "    if et.isjoint:\n",
    "        fk = fk @ et.A(q[et.jindex])\n",
    "    else:\n",
    "        fk = fk @ et.A()\n",
    "\n",
    "\n",
    "print(sm.SE3(fk))\n",
    "#************************************************\n",
    "print(f\"The fkine method: \\n{ETS.fkine(q)}\")"
   ]
  },
  {
   "cell_type": "markdown",
   "id": "b3e1e01b-bf18-4b46-b6b3-344eb52b0f33",
   "metadata": {},
   "source": [
    "## 我认为答案不对"
   ]
  },
  {
   "cell_type": "code",
   "execution_count": null,
   "id": "c722d2fc-8d95-4a2b-a1df-de14aff80cf6",
   "metadata": {},
   "outputs": [],
   "source": []
  }
 ],
 "metadata": {
  "kernelspec": {
   "display_name": "Python 3 (ipykernel)",
   "language": "python",
   "name": "python3"
  },
  "language_info": {
   "codemirror_mode": {
    "name": "ipython",
    "version": 3
   },
   "file_extension": ".py",
   "mimetype": "text/x-python",
   "name": "python",
   "nbconvert_exporter": "python",
   "pygments_lexer": "ipython3",
   "version": "3.10.0"
  }
 },
 "nbformat": 4,
 "nbformat_minor": 5
}
