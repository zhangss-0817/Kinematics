import numpy as np
import roboticstoolbox as rtb
import spatialmath as sm


E1 = rtb.ET.tz(0.1)
E2 = rtb.ET.Rx()
E3 = rtb.ET.tz(0.2)
E4 = rtb.ET.Ry()
E5 = rtb.ET.tz(0.2)
E6 = rtb.ET.Ry()
E7 = rtb.ET.Rx()
E8 = rtb.ET.Ry()
E9 = rtb.ET.ty(0.3)
E10 = rtb.ET.Rz()
E11 = rtb.ET.Rz()
E12 = rtb.ET.Ry()
E13 = rtb.ET.tz(-0.2)
E14 = rtb.ET.Rx()
E15 = rtb.ET.tz(-0.2)
E16 = rtb.ET.Ry()
E17 = rtb.ET.Ry()
E18 = rtb.ET.tz(-0.1)
E19 = rtb.ET.Rx()

ETS = E1 * E2 * E3 * E4 * E5 * E6 * E7 * E8 * E9 * E10 * E11 * E12 * E13 * E14 * E15 * E16 * E17 * E18 * E19


q = np.array([0, 0, 0, 0, 0, 0, 0, 0, 0, 0, 0, np.pi / 2])


fk = np.eye(4)

for et in ETS:
    if et.isjoint:
        fk = fk @ et.A(q[et.jindex])
    else:
        fk = fk @ et.A()


print(sm.SE3(fk))
#************************************************
print(f"The fkine method: \n{ETS.fkine(q)}")
